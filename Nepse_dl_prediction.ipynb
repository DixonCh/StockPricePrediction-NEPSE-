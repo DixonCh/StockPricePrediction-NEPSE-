{
 "cells": [
  {
   "cell_type": "code",
   "execution_count": 1,
   "metadata": {},
   "outputs": [],
   "source": [
    "from pandas import read_csv\n",
    "import matplotlib.pyplot as plt\n",
    "import numpy as np\n",
    "import pandas as pd\n",
    "from matplotlib import pyplot"
   ]
  },
  {
   "cell_type": "code",
   "execution_count": 2,
   "metadata": {},
   "outputs": [],
   "source": [
    "#for filename\n",
    "m_name=''\n",
    "m_set=''"
   ]
  },
  {
   "cell_type": "code",
   "execution_count": 3,
   "metadata": {},
   "outputs": [
    {
     "name": "stdout",
     "output_type": "stream",
     "text": [
      "Enter the dataset: 1\n"
     ]
    }
   ],
   "source": [
    "#1. Dataset with sentiment score\n",
    "#2. Dataset without sentiment score(Only stock dataset)\n",
    "dt_choice = input(\"Enter the dataset: \")"
   ]
  },
  {
   "cell_type": "code",
   "execution_count": 4,
   "metadata": {},
   "outputs": [],
   "source": [
    "if(dt_choice == 1):\n",
    "    df = read_csv('news_score_final.csv', header=0, index_col=0)\n",
    "    dataset = df[['LTP','Open','High','Low','Quantity','Score']]\n",
    "    n_features = 6\n",
    "    m_set = 'All' #for filename\n",
    "else:\n",
    "    df = read_csv('news_score_final.csv', header=0, index_col=0)\n",
    "    dataset = df[['LTP','Open','High','Low','Quantity']]\n",
    "    n_features = 5\n",
    "    m_set = 'Only'"
   ]
  },
  {
   "cell_type": "code",
   "execution_count": 5,
   "metadata": {},
   "outputs": [
    {
     "name": "stdout",
     "output_type": "stream",
     "text": [
      "Enter the of the module(1/2): 1\n"
     ]
    }
   ],
   "source": [
    "#1 LSTM \n",
    "#2 GRU\n",
    "model_name = input(\"Enter the of the module(1/2): \")"
   ]
  },
  {
   "cell_type": "code",
   "execution_count": 6,
   "metadata": {},
   "outputs": [
    {
     "data": {
      "text/html": [
       "<div>\n",
       "<style scoped>\n",
       "    .dataframe tbody tr th:only-of-type {\n",
       "        vertical-align: middle;\n",
       "    }\n",
       "\n",
       "    .dataframe tbody tr th {\n",
       "        vertical-align: top;\n",
       "    }\n",
       "\n",
       "    .dataframe thead th {\n",
       "        text-align: right;\n",
       "    }\n",
       "</style>\n",
       "<table border=\"1\" class=\"dataframe\">\n",
       "  <thead>\n",
       "    <tr style=\"text-align: right;\">\n",
       "      <th></th>\n",
       "      <th>Date</th>\n",
       "      <th>LTP</th>\n",
       "      <th>Open</th>\n",
       "      <th>High</th>\n",
       "      <th>Low</th>\n",
       "      <th>Quantity</th>\n",
       "    </tr>\n",
       "  </thead>\n",
       "  <tbody>\n",
       "    <tr>\n",
       "      <th>0</th>\n",
       "      <td>12/6/2010</td>\n",
       "      <td>289.469482</td>\n",
       "      <td>290.575562</td>\n",
       "      <td>291.291290</td>\n",
       "      <td>288.593597</td>\n",
       "      <td>4183400</td>\n",
       "    </tr>\n",
       "    <tr>\n",
       "      <th>1</th>\n",
       "      <td>12/7/2010</td>\n",
       "      <td>293.863861</td>\n",
       "      <td>295.930939</td>\n",
       "      <td>296.796783</td>\n",
       "      <td>293.293304</td>\n",
       "      <td>6078300</td>\n",
       "    </tr>\n",
       "  </tbody>\n",
       "</table>\n",
       "</div>"
      ],
      "text/plain": [
       "        Date         LTP        Open        High         Low  Quantity\n",
       "0  12/6/2010  289.469482  290.575562  291.291290  288.593597   4183400\n",
       "1  12/7/2010  293.863861  295.930939  296.796783  293.293304   6078300"
      ]
     },
     "execution_count": 6,
     "metadata": {},
     "output_type": "execute_result"
    }
   ],
   "source": [
    "dataset=dataset.reset_index()\n",
    "dataset.head(2)"
   ]
  },
  {
   "cell_type": "code",
   "execution_count": 7,
   "metadata": {},
   "outputs": [
    {
     "data": {
      "text/plain": [
       "(1990, 5)"
      ]
     },
     "execution_count": 7,
     "metadata": {},
     "output_type": "execute_result"
    }
   ],
   "source": [
    "dataset['Date']=pd.to_datetime(dataset.Date)\n",
    "dataset.set_index('Date',drop=True,inplace=True)\n",
    "dataset.shape"
   ]
  },
  {
   "cell_type": "code",
   "execution_count": 8,
   "metadata": {},
   "outputs": [
    {
     "name": "stderr",
     "output_type": "stream",
     "text": [
      "C:\\Users\\user\\Anaconda3\\lib\\site-packages\\pandas\\plotting\\_matplotlib\\converter.py:103: FutureWarning: Using an implicitly registered datetime converter for a matplotlib plotting method. The converter was registered by pandas on import. Future versions of pandas will require you to explicitly register matplotlib converters.\n",
      "\n",
      "To register the converters:\n",
      "\t>>> from pandas.plotting import register_matplotlib_converters\n",
      "\t>>> register_matplotlib_converters()\n",
      "  warnings.warn(msg, FutureWarning)\n"
     ]
    },
    {
     "data": {
      "text/plain": [
       "[<matplotlib.lines.Line2D at 0x1c506c4aa20>]"
      ]
     },
     "execution_count": 8,
     "metadata": {},
     "output_type": "execute_result"
    },
    {
     "data": {
      "image/png": "[encoded data removed]",
      "text/plain": [
       "<Figure size 432x288 with 1 Axes>"
      ]
     },
     "metadata": {
      "needs_background": "light"
     },
     "output_type": "display_data"
    }
   ],
   "source": [
    "plt.plot(dataset['LTP'])"
   ]
  },
  {
   "cell_type": "code",
   "execution_count": 9,
   "metadata": {},
   "outputs": [
    {
     "data": {
      "text/html": [
       "<div>\n",
       "<style scoped>\n",
       "    .dataframe tbody tr th:only-of-type {\n",
       "        vertical-align: middle;\n",
       "    }\n",
       "\n",
       "    .dataframe tbody tr th {\n",
       "        vertical-align: top;\n",
       "    }\n",
       "\n",
       "    .dataframe thead th {\n",
       "        text-align: right;\n",
       "    }\n",
       "</style>\n",
       "<table border=\"1\" class=\"dataframe\">\n",
       "  <thead>\n",
       "    <tr style=\"text-align: right;\">\n",
       "      <th></th>\n",
       "      <th>LTP</th>\n",
       "      <th>Open</th>\n",
       "      <th>High</th>\n",
       "      <th>Low</th>\n",
       "      <th>Quantity</th>\n",
       "    </tr>\n",
       "    <tr>\n",
       "      <th>Date</th>\n",
       "      <th></th>\n",
       "      <th></th>\n",
       "      <th></th>\n",
       "      <th></th>\n",
       "      <th></th>\n",
       "    </tr>\n",
       "  </thead>\n",
       "  <tbody>\n",
       "    <tr>\n",
       "      <th>2010-12-06</th>\n",
       "      <td>289.469482</td>\n",
       "      <td>290.575562</td>\n",
       "      <td>291.291290</td>\n",
       "      <td>288.593597</td>\n",
       "      <td>4183400</td>\n",
       "    </tr>\n",
       "    <tr>\n",
       "      <th>2010-12-07</th>\n",
       "      <td>293.863861</td>\n",
       "      <td>295.930939</td>\n",
       "      <td>296.796783</td>\n",
       "      <td>293.293304</td>\n",
       "      <td>6078300</td>\n",
       "    </tr>\n",
       "    <tr>\n",
       "      <th>2010-12-08</th>\n",
       "      <td>295.565552</td>\n",
       "      <td>296.281281</td>\n",
       "      <td>296.556549</td>\n",
       "      <td>292.137146</td>\n",
       "      <td>3510200</td>\n",
       "    </tr>\n",
       "    <tr>\n",
       "      <th>2010-12-09</th>\n",
       "      <td>296.046051</td>\n",
       "      <td>297.237244</td>\n",
       "      <td>298.088074</td>\n",
       "      <td>294.794800</td>\n",
       "      <td>3734000</td>\n",
       "    </tr>\n",
       "    <tr>\n",
       "      <th>2010-12-10</th>\n",
       "      <td>296.401398</td>\n",
       "      <td>296.866852</td>\n",
       "      <td>297.292297</td>\n",
       "      <td>295.440430</td>\n",
       "      <td>3405900</td>\n",
       "    </tr>\n",
       "  </tbody>\n",
       "</table>\n",
       "</div>"
      ],
      "text/plain": [
       "                   LTP        Open        High         Low  Quantity\n",
       "Date                                                                \n",
       "2010-12-06  289.469482  290.575562  291.291290  288.593597   4183400\n",
       "2010-12-07  293.863861  295.930939  296.796783  293.293304   6078300\n",
       "2010-12-08  295.565552  296.281281  296.556549  292.137146   3510200\n",
       "2010-12-09  296.046051  297.237244  298.088074  294.794800   3734000\n",
       "2010-12-10  296.401398  296.866852  297.292297  295.440430   3405900"
      ]
     },
     "execution_count": 9,
     "metadata": {},
     "output_type": "execute_result"
    }
   ],
   "source": [
    "dataset=dataset.sort_index()\n",
    "dataset.head()"
   ]
  },
  {
   "cell_type": "code",
   "execution_count": 10,
   "metadata": {},
   "outputs": [],
   "source": [
    "from pandas import DataFrame\n",
    "from pandas import concat\n",
    "import pandas as pd"
   ]
  },
  {
   "cell_type": "code",
   "execution_count": 11,
   "metadata": {},
   "outputs": [],
   "source": [
    "# convert series to supervised learning\n",
    "def series_to_supervised(data, n_in=1, n_out=1, dropnan=True):\n",
    "\tn_vars = 1 if type(data) is list else data.shape[1]\n",
    "\tdf = DataFrame(data)\n",
    "\tcols, names = list(), list()\n",
    "\t# input sequence (t-n, ... t-1)\n",
    "\tfor i in range(n_in, 0, -1):\n",
    "\t\tcols.append(df.shift(i))\n",
    "\t\tnames += [('var%d(t-%d)' % (j+1, i)) for j in range(n_vars)]\n",
    "\t# forecast sequence (t, t+1, ... t+n)\n",
    "\tfor i in range(0, n_out):\n",
    "\t\tcols.append(df.shift(-i))\n",
    "\t\tif i == 0:\n",
    "\t\t\tnames += [('var%d(t)' % (j+1)) for j in range(n_vars)]\n",
    "\t\telse:\n",
    "\t\t\tnames += [('var%d(t+%d)' % (j+1, i)) for j in range(n_vars)]\n",
    "\t# put it all together\n",
    "\tagg = concat(cols, axis=1)\n",
    "\tagg.columns = names\n",
    "\t# drop rows with NaN values\n",
    "\tif dropnan:\n",
    "\t\tagg.dropna(inplace=True)\n",
    "\treturn agg"
   ]
  },
  {
   "cell_type": "code",
   "execution_count": 12,
   "metadata": {},
   "outputs": [],
   "source": [
    "data=series_to_supervised(dataset, 12,1)"
   ]
  },
  {
   "cell_type": "code",
   "execution_count": 13,
   "metadata": {},
   "outputs": [
    {
     "data": {
      "text/html": [
       "<div>\n",
       "<style scoped>\n",
       "    .dataframe tbody tr th:only-of-type {\n",
       "        vertical-align: middle;\n",
       "    }\n",
       "\n",
       "    .dataframe tbody tr th {\n",
       "        vertical-align: top;\n",
       "    }\n",
       "\n",
       "    .dataframe thead th {\n",
       "        text-align: right;\n",
       "    }\n",
       "</style>\n",
       "<table border=\"1\" class=\"dataframe\">\n",
       "  <thead>\n",
       "    <tr style=\"text-align: right;\">\n",
       "      <th></th>\n",
       "      <th>LTP</th>\n",
       "      <th>Open</th>\n",
       "      <th>High</th>\n",
       "      <th>Low</th>\n",
       "      <th>Quantity</th>\n",
       "    </tr>\n",
       "    <tr>\n",
       "      <th>Date</th>\n",
       "      <th></th>\n",
       "      <th></th>\n",
       "      <th></th>\n",
       "      <th></th>\n",
       "      <th></th>\n",
       "    </tr>\n",
       "  </thead>\n",
       "  <tbody>\n",
       "    <tr>\n",
       "      <th>2010-12-06</th>\n",
       "      <td>289.469482</td>\n",
       "      <td>290.575562</td>\n",
       "      <td>291.291290</td>\n",
       "      <td>288.593597</td>\n",
       "      <td>4183400</td>\n",
       "    </tr>\n",
       "    <tr>\n",
       "      <th>2010-12-07</th>\n",
       "      <td>293.863861</td>\n",
       "      <td>295.930939</td>\n",
       "      <td>296.796783</td>\n",
       "      <td>293.293304</td>\n",
       "      <td>6078300</td>\n",
       "    </tr>\n",
       "    <tr>\n",
       "      <th>2010-12-08</th>\n",
       "      <td>295.565552</td>\n",
       "      <td>296.281281</td>\n",
       "      <td>296.556549</td>\n",
       "      <td>292.137146</td>\n",
       "      <td>3510200</td>\n",
       "    </tr>\n",
       "    <tr>\n",
       "      <th>2010-12-09</th>\n",
       "      <td>296.046051</td>\n",
       "      <td>297.237244</td>\n",
       "      <td>298.088074</td>\n",
       "      <td>294.794800</td>\n",
       "      <td>3734000</td>\n",
       "    </tr>\n",
       "    <tr>\n",
       "      <th>2010-12-10</th>\n",
       "      <td>296.401398</td>\n",
       "      <td>296.866852</td>\n",
       "      <td>297.292297</td>\n",
       "      <td>295.440430</td>\n",
       "      <td>3405900</td>\n",
       "    </tr>\n",
       "  </tbody>\n",
       "</table>\n",
       "</div>"
      ],
      "text/plain": [
       "                   LTP        Open        High         Low  Quantity\n",
       "Date                                                                \n",
       "2010-12-06  289.469482  290.575562  291.291290  288.593597   4183400\n",
       "2010-12-07  293.863861  295.930939  296.796783  293.293304   6078300\n",
       "2010-12-08  295.565552  296.281281  296.556549  292.137146   3510200\n",
       "2010-12-09  296.046051  297.237244  298.088074  294.794800   3734000\n",
       "2010-12-10  296.401398  296.866852  297.292297  295.440430   3405900"
      ]
     },
     "execution_count": 13,
     "metadata": {},
     "output_type": "execute_result"
    }
   ],
   "source": [
    "dataset.head()"
   ]
  },
  {
   "cell_type": "code",
   "execution_count": 14,
   "metadata": {},
   "outputs": [
    {
     "data": {
      "text/html": [
       "<div>\n",
       "<style scoped>\n",
       "    .dataframe tbody tr th:only-of-type {\n",
       "        vertical-align: middle;\n",
       "    }\n",
       "\n",
       "    .dataframe tbody tr th {\n",
       "        vertical-align: top;\n",
       "    }\n",
       "\n",
       "    .dataframe thead th {\n",
       "        text-align: right;\n",
       "    }\n",
       "</style>\n",
       "<table border=\"1\" class=\"dataframe\">\n",
       "  <thead>\n",
       "    <tr style=\"text-align: right;\">\n",
       "      <th></th>\n",
       "      <th>var1(t-12)</th>\n",
       "      <th>var2(t-12)</th>\n",
       "      <th>var3(t-12)</th>\n",
       "      <th>var4(t-12)</th>\n",
       "      <th>var5(t-12)</th>\n",
       "      <th>var1(t-11)</th>\n",
       "      <th>var2(t-11)</th>\n",
       "      <th>var3(t-11)</th>\n",
       "      <th>var4(t-11)</th>\n",
       "      <th>var5(t-11)</th>\n",
       "      <th>...</th>\n",
       "      <th>var1(t-1)</th>\n",
       "      <th>var2(t-1)</th>\n",
       "      <th>var3(t-1)</th>\n",
       "      <th>var4(t-1)</th>\n",
       "      <th>var5(t-1)</th>\n",
       "      <th>var1(t)</th>\n",
       "      <th>var2(t)</th>\n",
       "      <th>var3(t)</th>\n",
       "      <th>var4(t)</th>\n",
       "      <th>var5(t)</th>\n",
       "    </tr>\n",
       "    <tr>\n",
       "      <th>Date</th>\n",
       "      <th></th>\n",
       "      <th></th>\n",
       "      <th></th>\n",
       "      <th></th>\n",
       "      <th></th>\n",
       "      <th></th>\n",
       "      <th></th>\n",
       "      <th></th>\n",
       "      <th></th>\n",
       "      <th></th>\n",
       "      <th></th>\n",
       "      <th></th>\n",
       "      <th></th>\n",
       "      <th></th>\n",
       "      <th></th>\n",
       "      <th></th>\n",
       "      <th></th>\n",
       "      <th></th>\n",
       "      <th></th>\n",
       "      <th></th>\n",
       "      <th></th>\n",
       "    </tr>\n",
       "  </thead>\n",
       "  <tbody>\n",
       "    <tr>\n",
       "      <th>2010-12-18</th>\n",
       "      <td>289.469482</td>\n",
       "      <td>290.575562</td>\n",
       "      <td>291.291290</td>\n",
       "      <td>288.593597</td>\n",
       "      <td>4183400.0</td>\n",
       "      <td>293.863861</td>\n",
       "      <td>295.930939</td>\n",
       "      <td>296.796783</td>\n",
       "      <td>293.293304</td>\n",
       "      <td>6078300.0</td>\n",
       "      <td>...</td>\n",
       "      <td>301.836823</td>\n",
       "      <td>299.584595</td>\n",
       "      <td>302.662659</td>\n",
       "      <td>299.104095</td>\n",
       "      <td>3755200.0</td>\n",
       "      <td>303.048035</td>\n",
       "      <td>302.302307</td>\n",
       "      <td>303.803802</td>\n",
       "      <td>301.941956</td>\n",
       "      <td>2412500</td>\n",
       "    </tr>\n",
       "    <tr>\n",
       "      <th>2010-12-20</th>\n",
       "      <td>293.863861</td>\n",
       "      <td>295.930939</td>\n",
       "      <td>296.796783</td>\n",
       "      <td>293.293304</td>\n",
       "      <td>6078300.0</td>\n",
       "      <td>295.565552</td>\n",
       "      <td>296.281281</td>\n",
       "      <td>296.556549</td>\n",
       "      <td>292.137146</td>\n",
       "      <td>3510200.0</td>\n",
       "      <td>...</td>\n",
       "      <td>303.048035</td>\n",
       "      <td>302.302307</td>\n",
       "      <td>303.803802</td>\n",
       "      <td>301.941956</td>\n",
       "      <td>2412500.0</td>\n",
       "      <td>302.417419</td>\n",
       "      <td>302.972961</td>\n",
       "      <td>303.303314</td>\n",
       "      <td>301.316315</td>\n",
       "      <td>2219300</td>\n",
       "    </tr>\n",
       "    <tr>\n",
       "      <th>2010-12-21</th>\n",
       "      <td>295.565552</td>\n",
       "      <td>296.281281</td>\n",
       "      <td>296.556549</td>\n",
       "      <td>292.137146</td>\n",
       "      <td>3510200.0</td>\n",
       "      <td>296.046051</td>\n",
       "      <td>297.237244</td>\n",
       "      <td>298.088074</td>\n",
       "      <td>294.794800</td>\n",
       "      <td>3734000.0</td>\n",
       "      <td>...</td>\n",
       "      <td>302.417419</td>\n",
       "      <td>302.972961</td>\n",
       "      <td>303.303314</td>\n",
       "      <td>301.316315</td>\n",
       "      <td>2219300.0</td>\n",
       "      <td>301.491486</td>\n",
       "      <td>301.671661</td>\n",
       "      <td>302.192200</td>\n",
       "      <td>300.050049</td>\n",
       "      <td>2413700</td>\n",
       "    </tr>\n",
       "    <tr>\n",
       "      <th>2010-12-22</th>\n",
       "      <td>296.046051</td>\n",
       "      <td>297.237244</td>\n",
       "      <td>298.088074</td>\n",
       "      <td>294.794800</td>\n",
       "      <td>3734000.0</td>\n",
       "      <td>296.401398</td>\n",
       "      <td>296.866852</td>\n",
       "      <td>297.292297</td>\n",
       "      <td>295.440430</td>\n",
       "      <td>3405900.0</td>\n",
       "      <td>...</td>\n",
       "      <td>301.491486</td>\n",
       "      <td>301.671661</td>\n",
       "      <td>302.192200</td>\n",
       "      <td>300.050049</td>\n",
       "      <td>2413700.0</td>\n",
       "      <td>299.759766</td>\n",
       "      <td>301.326324</td>\n",
       "      <td>302.237244</td>\n",
       "      <td>299.304291</td>\n",
       "      <td>2127400</td>\n",
       "    </tr>\n",
       "    <tr>\n",
       "      <th>2010-12-23</th>\n",
       "      <td>296.401398</td>\n",
       "      <td>296.866852</td>\n",
       "      <td>297.292297</td>\n",
       "      <td>295.440430</td>\n",
       "      <td>3405900.0</td>\n",
       "      <td>297.607605</td>\n",
       "      <td>298.858856</td>\n",
       "      <td>301.801788</td>\n",
       "      <td>297.342346</td>\n",
       "      <td>4792200.0</td>\n",
       "      <td>...</td>\n",
       "      <td>299.759766</td>\n",
       "      <td>301.326324</td>\n",
       "      <td>302.237244</td>\n",
       "      <td>299.304291</td>\n",
       "      <td>2127400.0</td>\n",
       "      <td>300.800812</td>\n",
       "      <td>301.301300</td>\n",
       "      <td>301.506500</td>\n",
       "      <td>299.759766</td>\n",
       "      <td>2036300</td>\n",
       "    </tr>\n",
       "  </tbody>\n",
       "</table>\n",
       "<p>5 rows × 65 columns</p>\n",
       "</div>"
      ],
      "text/plain": [
       "            var1(t-12)  var2(t-12)  var3(t-12)  var4(t-12)  var5(t-12)  \\\n",
       "Date                                                                     \n",
       "2010-12-18  289.469482  290.575562  291.291290  288.593597   4183400.0   \n",
       "2010-12-20  293.863861  295.930939  296.796783  293.293304   6078300.0   \n",
       "2010-12-21  295.565552  296.281281  296.556549  292.137146   3510200.0   \n",
       "2010-12-22  296.046051  297.237244  298.088074  294.794800   3734000.0   \n",
       "2010-12-23  296.401398  296.866852  297.292297  295.440430   3405900.0   \n",
       "\n",
       "            var1(t-11)  var2(t-11)  var3(t-11)  var4(t-11)  var5(t-11)  ...  \\\n",
       "Date                                                                    ...   \n",
       "2010-12-18  293.863861  295.930939  296.796783  293.293304   6078300.0  ...   \n",
       "2010-12-20  295.565552  296.281281  296.556549  292.137146   3510200.0  ...   \n",
       "2010-12-21  296.046051  297.237244  298.088074  294.794800   3734000.0  ...   \n",
       "2010-12-22  296.401398  296.866852  297.292297  295.440430   3405900.0  ...   \n",
       "2010-12-23  297.607605  298.858856  301.801788  297.342346   4792200.0  ...   \n",
       "\n",
       "             var1(t-1)   var2(t-1)   var3(t-1)   var4(t-1)  var5(t-1)  \\\n",
       "Date                                                                    \n",
       "2010-12-18  301.836823  299.584595  302.662659  299.104095  3755200.0   \n",
       "2010-12-20  303.048035  302.302307  303.803802  301.941956  2412500.0   \n",
       "2010-12-21  302.417419  302.972961  303.303314  301.316315  2219300.0   \n",
       "2010-12-22  301.491486  301.671661  302.192200  300.050049  2413700.0   \n",
       "2010-12-23  299.759766  301.326324  302.237244  299.304291  2127400.0   \n",
       "\n",
       "               var1(t)     var2(t)     var3(t)     var4(t)  var5(t)  \n",
       "Date                                                                 \n",
       "2010-12-18  303.048035  302.302307  303.803802  301.941956  2412500  \n",
       "2010-12-20  302.417419  302.972961  303.303314  301.316315  2219300  \n",
       "2010-12-21  301.491486  301.671661  302.192200  300.050049  2413700  \n",
       "2010-12-22  299.759766  301.326324  302.237244  299.304291  2127400  \n",
       "2010-12-23  300.800812  301.301300  301.506500  299.759766  2036300  \n",
       "\n",
       "[5 rows x 65 columns]"
      ]
     },
     "execution_count": 14,
     "metadata": {},
     "output_type": "execute_result"
    }
   ],
   "source": [
    "data.head()"
   ]
  },
  {
   "cell_type": "code",
   "execution_count": 15,
   "metadata": {},
   "outputs": [],
   "source": [
    "values = dataset.values\n",
    "values = values.astype('float32')"
   ]
  },
  {
   "cell_type": "code",
   "execution_count": 16,
   "metadata": {},
   "outputs": [],
   "source": [
    "from sklearn.preprocessing import MinMaxScaler\n",
    "scaler = MinMaxScaler(feature_range=(0, 1))\n",
    "scaled = scaler.fit_transform(values)"
   ]
  },
  {
   "cell_type": "code",
   "execution_count": 17,
   "metadata": {},
   "outputs": [],
   "source": [
    "# specify the number of lag hours\n",
    "n_lag = 12\n"
   ]
  },
  {
   "cell_type": "code",
   "execution_count": 18,
   "metadata": {},
   "outputs": [
    {
     "name": "stdout",
     "output_type": "stream",
     "text": [
      "(1978, 65)\n"
     ]
    }
   ],
   "source": [
    "# frame as supervised learning\n",
    "reframed = series_to_supervised(scaled, n_lag, 1)\n",
    "print(reframed.shape)"
   ]
  },
  {
   "cell_type": "code",
   "execution_count": 19,
   "metadata": {},
   "outputs": [
    {
     "data": {
      "text/html": [
       "<div>\n",
       "<style scoped>\n",
       "    .dataframe tbody tr th:only-of-type {\n",
       "        vertical-align: middle;\n",
       "    }\n",
       "\n",
       "    .dataframe tbody tr th {\n",
       "        vertical-align: top;\n",
       "    }\n",
       "\n",
       "    .dataframe thead th {\n",
       "        text-align: right;\n",
       "    }\n",
       "</style>\n",
       "<table border=\"1\" class=\"dataframe\">\n",
       "  <thead>\n",
       "    <tr style=\"text-align: right;\">\n",
       "      <th></th>\n",
       "      <th>var1(t-12)</th>\n",
       "      <th>var2(t-12)</th>\n",
       "      <th>var3(t-12)</th>\n",
       "      <th>var4(t-12)</th>\n",
       "      <th>var5(t-12)</th>\n",
       "      <th>var1(t-11)</th>\n",
       "      <th>var2(t-11)</th>\n",
       "      <th>var3(t-11)</th>\n",
       "      <th>var4(t-11)</th>\n",
       "      <th>var5(t-11)</th>\n",
       "      <th>...</th>\n",
       "      <th>var1(t-1)</th>\n",
       "      <th>var2(t-1)</th>\n",
       "      <th>var3(t-1)</th>\n",
       "      <th>var4(t-1)</th>\n",
       "      <th>var5(t-1)</th>\n",
       "      <th>var1(t)</th>\n",
       "      <th>var2(t)</th>\n",
       "      <th>var3(t)</th>\n",
       "      <th>var4(t)</th>\n",
       "      <th>var5(t)</th>\n",
       "    </tr>\n",
       "  </thead>\n",
       "  <tbody>\n",
       "    <tr>\n",
       "      <th>12</th>\n",
       "      <td>0.049428</td>\n",
       "      <td>0.050707</td>\n",
       "      <td>0.048225</td>\n",
       "      <td>0.050521</td>\n",
       "      <td>0.133006</td>\n",
       "      <td>0.053622</td>\n",
       "      <td>0.055799</td>\n",
       "      <td>0.053464</td>\n",
       "      <td>0.055100</td>\n",
       "      <td>0.201814</td>\n",
       "      <td>...</td>\n",
       "      <td>0.061231</td>\n",
       "      <td>0.059272</td>\n",
       "      <td>0.059046</td>\n",
       "      <td>0.060762</td>\n",
       "      <td>0.117457</td>\n",
       "      <td>0.062387</td>\n",
       "      <td>0.061856</td>\n",
       "      <td>0.060132</td>\n",
       "      <td>0.063527</td>\n",
       "      <td>0.068700</td>\n",
       "    </tr>\n",
       "    <tr>\n",
       "      <th>13</th>\n",
       "      <td>0.053622</td>\n",
       "      <td>0.055799</td>\n",
       "      <td>0.053464</td>\n",
       "      <td>0.055100</td>\n",
       "      <td>0.201814</td>\n",
       "      <td>0.055246</td>\n",
       "      <td>0.056132</td>\n",
       "      <td>0.053235</td>\n",
       "      <td>0.053973</td>\n",
       "      <td>0.108560</td>\n",
       "      <td>...</td>\n",
       "      <td>0.062387</td>\n",
       "      <td>0.061856</td>\n",
       "      <td>0.060132</td>\n",
       "      <td>0.063527</td>\n",
       "      <td>0.068700</td>\n",
       "      <td>0.061785</td>\n",
       "      <td>0.062493</td>\n",
       "      <td>0.059656</td>\n",
       "      <td>0.062918</td>\n",
       "      <td>0.061684</td>\n",
       "    </tr>\n",
       "    <tr>\n",
       "      <th>14</th>\n",
       "      <td>0.055246</td>\n",
       "      <td>0.056132</td>\n",
       "      <td>0.053235</td>\n",
       "      <td>0.053973</td>\n",
       "      <td>0.108560</td>\n",
       "      <td>0.055704</td>\n",
       "      <td>0.057041</td>\n",
       "      <td>0.054693</td>\n",
       "      <td>0.056563</td>\n",
       "      <td>0.116687</td>\n",
       "      <td>...</td>\n",
       "      <td>0.061785</td>\n",
       "      <td>0.062493</td>\n",
       "      <td>0.059656</td>\n",
       "      <td>0.062918</td>\n",
       "      <td>0.061684</td>\n",
       "      <td>0.060901</td>\n",
       "      <td>0.061256</td>\n",
       "      <td>0.058598</td>\n",
       "      <td>0.061684</td>\n",
       "      <td>0.068743</td>\n",
       "    </tr>\n",
       "    <tr>\n",
       "      <th>15</th>\n",
       "      <td>0.055704</td>\n",
       "      <td>0.057041</td>\n",
       "      <td>0.054693</td>\n",
       "      <td>0.056563</td>\n",
       "      <td>0.116687</td>\n",
       "      <td>0.056044</td>\n",
       "      <td>0.056688</td>\n",
       "      <td>0.053935</td>\n",
       "      <td>0.057192</td>\n",
       "      <td>0.104773</td>\n",
       "      <td>...</td>\n",
       "      <td>0.060901</td>\n",
       "      <td>0.061256</td>\n",
       "      <td>0.058598</td>\n",
       "      <td>0.061684</td>\n",
       "      <td>0.068743</td>\n",
       "      <td>0.059249</td>\n",
       "      <td>0.060928</td>\n",
       "      <td>0.058641</td>\n",
       "      <td>0.060957</td>\n",
       "      <td>0.058347</td>\n",
       "    </tr>\n",
       "    <tr>\n",
       "      <th>16</th>\n",
       "      <td>0.056044</td>\n",
       "      <td>0.056688</td>\n",
       "      <td>0.053935</td>\n",
       "      <td>0.057192</td>\n",
       "      <td>0.104773</td>\n",
       "      <td>0.057195</td>\n",
       "      <td>0.058582</td>\n",
       "      <td>0.058227</td>\n",
       "      <td>0.059045</td>\n",
       "      <td>0.155113</td>\n",
       "      <td>...</td>\n",
       "      <td>0.059249</td>\n",
       "      <td>0.060928</td>\n",
       "      <td>0.058641</td>\n",
       "      <td>0.060957</td>\n",
       "      <td>0.058347</td>\n",
       "      <td>0.060242</td>\n",
       "      <td>0.060904</td>\n",
       "      <td>0.057946</td>\n",
       "      <td>0.061401</td>\n",
       "      <td>0.055039</td>\n",
       "    </tr>\n",
       "  </tbody>\n",
       "</table>\n",
       "<p>5 rows × 65 columns</p>\n",
       "</div>"
      ],
      "text/plain": [
       "    var1(t-12)  var2(t-12)  var3(t-12)  var4(t-12)  var5(t-12)  var1(t-11)  \\\n",
       "12    0.049428    0.050707    0.048225    0.050521    0.133006    0.053622   \n",
       "13    0.053622    0.055799    0.053464    0.055100    0.201814    0.055246   \n",
       "14    0.055246    0.056132    0.053235    0.053973    0.108560    0.055704   \n",
       "15    0.055704    0.057041    0.054693    0.056563    0.116687    0.056044   \n",
       "16    0.056044    0.056688    0.053935    0.057192    0.104773    0.057195   \n",
       "\n",
       "    var2(t-11)  var3(t-11)  var4(t-11)  var5(t-11)  ...  var1(t-1)  var2(t-1)  \\\n",
       "12    0.055799    0.053464    0.055100    0.201814  ...   0.061231   0.059272   \n",
       "13    0.056132    0.053235    0.053973    0.108560  ...   0.062387   0.061856   \n",
       "14    0.057041    0.054693    0.056563    0.116687  ...   0.061785   0.062493   \n",
       "15    0.056688    0.053935    0.057192    0.104773  ...   0.060901   0.061256   \n",
       "16    0.058582    0.058227    0.059045    0.155113  ...   0.059249   0.060928   \n",
       "\n",
       "    var3(t-1)  var4(t-1)  var5(t-1)   var1(t)   var2(t)   var3(t)   var4(t)  \\\n",
       "12   0.059046   0.060762   0.117457  0.062387  0.061856  0.060132  0.063527   \n",
       "13   0.060132   0.063527   0.068700  0.061785  0.062493  0.059656  0.062918   \n",
       "14   0.059656   0.062918   0.061684  0.060901  0.061256  0.058598  0.061684   \n",
       "15   0.058598   0.061684   0.068743  0.059249  0.060928  0.058641  0.060957   \n",
       "16   0.058641   0.060957   0.058347  0.060242  0.060904  0.057946  0.061401   \n",
       "\n",
       "     var5(t)  \n",
       "12  0.068700  \n",
       "13  0.061684  \n",
       "14  0.068743  \n",
       "15  0.058347  \n",
       "16  0.055039  \n",
       "\n",
       "[5 rows x 65 columns]"
      ]
     },
     "execution_count": 19,
     "metadata": {},
     "output_type": "execute_result"
    }
   ],
   "source": [
    "reframed.head()"
   ]
  },
  {
   "cell_type": "code",
   "execution_count": 20,
   "metadata": {},
   "outputs": [],
   "source": [
    "# split into train and test sets\n",
    "values = reframed.values"
   ]
  },
  {
   "cell_type": "code",
   "execution_count": 21,
   "metadata": {},
   "outputs": [],
   "source": [
    "n_train = int(365 * 4)\n",
    "train = values[:n_train, :]\n",
    "test = values[n_train:, :]"
   ]
  },
  {
   "cell_type": "code",
   "execution_count": 22,
   "metadata": {},
   "outputs": [],
   "source": [
    "x_test_panda=dataset.iloc[n_train:,:]"
   ]
  },
  {
   "cell_type": "code",
   "execution_count": 23,
   "metadata": {},
   "outputs": [
    {
     "data": {
      "text/plain": [
       "(530, 5)"
      ]
     },
     "execution_count": 23,
     "metadata": {},
     "output_type": "execute_result"
    }
   ],
   "source": [
    "x_test_panda.shape"
   ]
  },
  {
   "cell_type": "code",
   "execution_count": 24,
   "metadata": {},
   "outputs": [
    {
     "data": {
      "text/plain": [
       "(518, 65)"
      ]
     },
     "execution_count": 24,
     "metadata": {},
     "output_type": "execute_result"
    }
   ],
   "source": [
    "test.shape"
   ]
  },
  {
   "cell_type": "code",
   "execution_count": 25,
   "metadata": {},
   "outputs": [
    {
     "name": "stdout",
     "output_type": "stream",
     "text": [
      "(1460, 60) 1460 (1460,)\n"
     ]
    }
   ],
   "source": [
    "# split into input and outputs\n",
    "n_obs = n_lag * n_features\n",
    "train_X, train_y = train[:, :n_obs], train[:, -n_features]\n",
    "test_X, test_y = test[:, :n_obs], test[:, -n_features]\n",
    "print(train_X.shape, len(train_X), train_y.shape)"
   ]
  },
  {
   "cell_type": "code",
   "execution_count": 26,
   "metadata": {},
   "outputs": [
    {
     "name": "stdout",
     "output_type": "stream",
     "text": [
      "(1460, 12, 5) (1460,) (518, 12, 5) (518,)\n"
     ]
    }
   ],
   "source": [
    "# reshape input to be 3D [samples, timesteps, features]\n",
    "train_X = np.reshape(train_X, (train_X.shape[0], n_lag, n_features))\n",
    "test_X = np.reshape(test_X, (test_X.shape[0], n_lag, n_features))\n",
    "\n",
    "print(train_X.shape, train_y.shape, test_X.shape, test_y.shape)"
   ]
  },
  {
   "cell_type": "code",
   "execution_count": 27,
   "metadata": {},
   "outputs": [],
   "source": [
    "def plot_history(history):\n",
    "    #plot history\n",
    "    pyplot.plot(history.history['loss'], label='train')\n",
    "    pyplot.plot(history.history['val_loss'], label='test')\n",
    "    pyplot.legend()\n",
    "    pyplot.show()"
   ]
  },
  {
   "cell_type": "code",
   "execution_count": 28,
   "metadata": {},
   "outputs": [
    {
     "name": "stderr",
     "output_type": "stream",
     "text": [
      "Using TensorFlow backend.\n"
     ]
    }
   ],
   "source": [
    "from keras.models import Sequential\n",
    "from keras.layers import Dense\n",
    "from keras.layers import LSTM,GRU\n",
    "from keras.callbacks import EarlyStopping"
   ]
  },
  {
   "cell_type": "code",
   "execution_count": 29,
   "metadata": {},
   "outputs": [],
   "source": [
    "def model_build(model_name):\n",
    "    model = Sequential()\n",
    "    if(model_name == 1):\n",
    "        model.add(LSTM(120,input_shape=(train_X.shape[1], train_X.shape[2])))\n",
    "        m_name = 'LSTM'\n",
    "    else:\n",
    "        model.add(GRU(120,input_shape=(train_X.shape[1], train_X.shape[2])))\n",
    "        m_name = 'GRU'\n",
    "    model.add(Dense(1))\n",
    "    model.compile(loss='mse', optimizer='adam',metrics=['mse','mae'])\n",
    "    return model"
   ]
  },
  {
   "cell_type": "code",
   "execution_count": 30,
   "metadata": {},
   "outputs": [],
   "source": [
    "def da(y_true,y_pred):\n",
    "    sum=0\n",
    "    for i in range(y_true.size-1):\n",
    "        dt=(y_true[i+1]-y_true[i])*(y_pred[i+1]-y_true[i])\n",
    "        if(dt>=0):\n",
    "            sum=sum+1\n",
    "    return sum/(y_true.size-1)"
   ]
  },
  {
   "cell_type": "code",
   "execution_count": 31,
   "metadata": {},
   "outputs": [],
   "source": [
    "def evaluateModel(inv_y,inv_yhat):\n",
    "    rmse = sqrt(mean_squared_error(inv_y, inv_yhat))\n",
    "    print('Test RMSE: %.3f' % rmse)\n",
    "    print('R2_Score: %.3f' % r2_score(inv_y,inv_yhat))\n",
    "    print(\"MAE:\", mean_absolute_error(inv_y,inv_yhat))\n",
    "    print(\"Directionnal Accuracyc:\", da(inv_y,inv_yhat))"
   ]
  },
  {
   "cell_type": "code",
   "execution_count": 32,
   "metadata": {},
   "outputs": [],
   "source": [
    "from numpy import concatenate\n",
    "from math import sqrt\n",
    "from sklearn.metrics import r2_score, mean_absolute_error,mean_squared_error"
   ]
  },
  {
   "cell_type": "code",
   "execution_count": 33,
   "metadata": {},
   "outputs": [],
   "source": [
    "from keras.models import Sequential\n",
    "from keras.layers import Dense\n",
    "from keras.layers import LSTM, GRU\n",
    "from keras.callbacks import EarlyStopping"
   ]
  },
  {
   "cell_type": "code",
   "execution_count": 34,
   "metadata": {},
   "outputs": [
    {
     "name": "stdout",
     "output_type": "stream",
     "text": [
      "WARNING:tensorflow:From C:\\Users\\user\\Anaconda3\\lib\\site-packages\\tensorflow\\python\\framework\\op_def_library.py:263: colocate_with (from tensorflow.python.framework.ops) is deprecated and will be removed in a future version.\n",
      "Instructions for updating:\n",
      "Colocations handled automatically by placer.\n"
     ]
    }
   ],
   "source": [
    "model = model_build(model_name)"
   ]
  },
  {
   "cell_type": "code",
   "execution_count": 35,
   "metadata": {},
   "outputs": [
    {
     "name": "stdout",
     "output_type": "stream",
     "text": [
      "WARNING:tensorflow:From C:\\Users\\user\\Anaconda3\\lib\\site-packages\\tensorflow\\python\\ops\\math_ops.py:3066: to_int32 (from tensorflow.python.ops.math_ops) is deprecated and will be removed in a future version.\n",
      "Instructions for updating:\n",
      "Use tf.cast instead.\n",
      "Train on 1460 samples, validate on 518 samples\n",
      "Epoch 1/100\n",
      " - 4s - loss: 6.8813e-04 - mean_squared_error: 6.8813e-04 - mean_absolute_error: 0.0203 - val_loss: 7.7542e-04 - val_mean_squared_error: 7.7542e-04 - val_mean_absolute_error: 0.0216\n",
      "Epoch 2/100\n",
      " - 1s - loss: 7.5937e-04 - mean_squared_error: 7.5937e-04 - mean_absolute_error: 0.0218 - val_loss: 4.8181e-04 - val_mean_squared_error: 4.8181e-04 - val_mean_absolute_error: 0.0173\n",
      "Epoch 3/100\n",
      " - 1s - loss: 6.5133e-04 - mean_squared_error: 6.5133e-04 - mean_absolute_error: 0.0198 - val_loss: 3.2358e-04 - val_mean_squared_error: 3.2358e-04 - val_mean_absolute_error: 0.0130\n",
      "Epoch 4/100\n",
      " - 1s - loss: 2.5766e-04 - mean_squared_error: 2.5766e-04 - mean_absolute_error: 0.0128 - val_loss: 3.4169e-04 - val_mean_squared_error: 3.4169e-04 - val_mean_absolute_error: 0.0139\n",
      "Epoch 5/100\n",
      " - 1s - loss: 1.8049e-04 - mean_squared_error: 1.8049e-04 - mean_absolute_error: 0.0104 - val_loss: 4.2939e-04 - val_mean_squared_error: 4.2939e-04 - val_mean_absolute_error: 0.0154\n",
      "Epoch 6/100\n",
      " - 1s - loss: 2.0460e-04 - mean_squared_error: 2.0460e-04 - mean_absolute_error: 0.0113 - val_loss: 2.8022e-04 - val_mean_squared_error: 2.8022e-04 - val_mean_absolute_error: 0.0122\n",
      "Epoch 7/100\n",
      " - 1s - loss: 1.2197e-04 - mean_squared_error: 1.2197e-04 - mean_absolute_error: 0.0082 - val_loss: 3.7806e-04 - val_mean_squared_error: 3.7806e-04 - val_mean_absolute_error: 0.0143\n",
      "Epoch 8/100\n",
      " - 1s - loss: 1.6431e-04 - mean_squared_error: 1.6431e-04 - mean_absolute_error: 0.0099 - val_loss: 2.8817e-04 - val_mean_squared_error: 2.8817e-04 - val_mean_absolute_error: 0.0125\n",
      "Epoch 9/100\n",
      " - 1s - loss: 1.0576e-04 - mean_squared_error: 1.0576e-04 - mean_absolute_error: 0.0076 - val_loss: 3.0207e-04 - val_mean_squared_error: 3.0207e-04 - val_mean_absolute_error: 0.0126\n",
      "Epoch 10/100\n",
      " - 1s - loss: 1.2765e-04 - mean_squared_error: 1.2765e-04 - mean_absolute_error: 0.0085 - val_loss: 2.7820e-04 - val_mean_squared_error: 2.7820e-04 - val_mean_absolute_error: 0.0123\n",
      "Epoch 11/100\n",
      " - 1s - loss: 9.2563e-05 - mean_squared_error: 9.2563e-05 - mean_absolute_error: 0.0070 - val_loss: 2.5129e-04 - val_mean_squared_error: 2.5129e-04 - val_mean_absolute_error: 0.0114\n",
      "Epoch 12/100\n",
      " - 1s - loss: 9.3658e-05 - mean_squared_error: 9.3658e-05 - mean_absolute_error: 0.0069 - val_loss: 2.4755e-04 - val_mean_squared_error: 2.4755e-04 - val_mean_absolute_error: 0.0115\n",
      "Epoch 13/100\n",
      " - 1s - loss: 8.0984e-05 - mean_squared_error: 8.0984e-05 - mean_absolute_error: 0.0063 - val_loss: 2.2999e-04 - val_mean_squared_error: 2.2999e-04 - val_mean_absolute_error: 0.0110\n",
      "Epoch 14/100\n",
      " - 1s - loss: 7.7538e-05 - mean_squared_error: 7.7538e-05 - mean_absolute_error: 0.0060 - val_loss: 2.2241e-04 - val_mean_squared_error: 2.2241e-04 - val_mean_absolute_error: 0.0108\n",
      "Epoch 15/100\n",
      " - 1s - loss: 7.6297e-05 - mean_squared_error: 7.6297e-05 - mean_absolute_error: 0.0060 - val_loss: 2.1796e-04 - val_mean_squared_error: 2.1796e-04 - val_mean_absolute_error: 0.0108\n",
      "Epoch 16/100\n",
      " - 1s - loss: 7.7868e-05 - mean_squared_error: 7.7868e-05 - mean_absolute_error: 0.0062 - val_loss: 2.1397e-04 - val_mean_squared_error: 2.1397e-04 - val_mean_absolute_error: 0.0107\n",
      "Epoch 17/100\n",
      " - 1s - loss: 7.7813e-05 - mean_squared_error: 7.7813e-05 - mean_absolute_error: 0.0062 - val_loss: 2.1153e-04 - val_mean_squared_error: 2.1153e-04 - val_mean_absolute_error: 0.0106\n",
      "Epoch 18/100\n",
      " - 1s - loss: 8.0037e-05 - mean_squared_error: 8.0037e-05 - mean_absolute_error: 0.0064 - val_loss: 2.1172e-04 - val_mean_squared_error: 2.1172e-04 - val_mean_absolute_error: 0.0107\n",
      "Epoch 19/100\n",
      " - 1s - loss: 8.4759e-05 - mean_squared_error: 8.4759e-05 - mean_absolute_error: 0.0067 - val_loss: 2.1384e-04 - val_mean_squared_error: 2.1384e-04 - val_mean_absolute_error: 0.0108\n",
      "Epoch 20/100\n",
      " - 1s - loss: 9.1485e-05 - mean_squared_error: 9.1485e-05 - mean_absolute_error: 0.0071 - val_loss: 2.1637e-04 - val_mean_squared_error: 2.1637e-04 - val_mean_absolute_error: 0.0109\n",
      "Epoch 21/100\n",
      " - 1s - loss: 9.9158e-05 - mean_squared_error: 9.9158e-05 - mean_absolute_error: 0.0075 - val_loss: 2.1697e-04 - val_mean_squared_error: 2.1697e-04 - val_mean_absolute_error: 0.0109\n",
      "Epoch 22/100\n",
      " - 1s - loss: 1.0394e-04 - mean_squared_error: 1.0394e-04 - mean_absolute_error: 0.0078 - val_loss: 2.1508e-04 - val_mean_squared_error: 2.1508e-04 - val_mean_absolute_error: 0.0109\n",
      "Epoch 23/100\n",
      " - 1s - loss: 1.0223e-04 - mean_squared_error: 1.0223e-04 - mean_absolute_error: 0.0077 - val_loss: 2.1162e-04 - val_mean_squared_error: 2.1162e-04 - val_mean_absolute_error: 0.0108\n",
      "Epoch 24/100\n",
      " - 1s - loss: 9.4855e-05 - mean_squared_error: 9.4855e-05 - mean_absolute_error: 0.0073 - val_loss: 2.0880e-04 - val_mean_squared_error: 2.0880e-04 - val_mean_absolute_error: 0.0107\n",
      "Epoch 25/100\n",
      " - 1s - loss: 8.6563e-05 - mean_squared_error: 8.6563e-05 - mean_absolute_error: 0.0069 - val_loss: 2.0927e-04 - val_mean_squared_error: 2.0927e-04 - val_mean_absolute_error: 0.0107\n",
      "Epoch 26/100\n",
      " - 1s - loss: 8.1948e-05 - mean_squared_error: 8.1948e-05 - mean_absolute_error: 0.0066 - val_loss: 2.1297e-04 - val_mean_squared_error: 2.1297e-04 - val_mean_absolute_error: 0.0108\n",
      "Epoch 27/100\n",
      " - 1s - loss: 8.0411e-05 - mean_squared_error: 8.0411e-05 - mean_absolute_error: 0.0066 - val_loss: 2.1910e-04 - val_mean_squared_error: 2.1910e-04 - val_mean_absolute_error: 0.0110\n",
      "Epoch 28/100\n",
      " - 1s - loss: 8.0894e-05 - mean_squared_error: 8.0894e-05 - mean_absolute_error: 0.0066 - val_loss: 2.2670e-04 - val_mean_squared_error: 2.2670e-04 - val_mean_absolute_error: 0.0113\n",
      "Epoch 29/100\n",
      " - 1s - loss: 8.2529e-05 - mean_squared_error: 8.2529e-05 - mean_absolute_error: 0.0067 - val_loss: 2.3459e-04 - val_mean_squared_error: 2.3459e-04 - val_mean_absolute_error: 0.0115\n",
      "Epoch 30/100\n",
      " - 1s - loss: 8.4668e-05 - mean_squared_error: 8.4668e-05 - mean_absolute_error: 0.0068 - val_loss: 2.4154e-04 - val_mean_squared_error: 2.4154e-04 - val_mean_absolute_error: 0.0118\n",
      "Epoch 31/100\n",
      " - 1s - loss: 8.6458e-05 - mean_squared_error: 8.6458e-05 - mean_absolute_error: 0.0069 - val_loss: 2.4690e-04 - val_mean_squared_error: 2.4690e-04 - val_mean_absolute_error: 0.0119\n",
      "Epoch 32/100\n",
      " - 1s - loss: 8.7103e-05 - mean_squared_error: 8.7103e-05 - mean_absolute_error: 0.0070 - val_loss: 2.5052e-04 - val_mean_squared_error: 2.5052e-04 - val_mean_absolute_error: 0.0121\n",
      "Epoch 33/100\n",
      " - 1s - loss: 8.6162e-05 - mean_squared_error: 8.6162e-05 - mean_absolute_error: 0.0069 - val_loss: 2.5352e-04 - val_mean_squared_error: 2.5352e-04 - val_mean_absolute_error: 0.0121\n",
      "Epoch 34/100\n",
      " - 1s - loss: 8.3517e-05 - mean_squared_error: 8.3517e-05 - mean_absolute_error: 0.0068 - val_loss: 2.5747e-04 - val_mean_squared_error: 2.5747e-04 - val_mean_absolute_error: 0.0123\n"
     ]
    }
   ],
   "source": [
    "history = model.fit(train_X, train_y, epochs=100, batch_size=30, validation_data=(test_X, test_y),callbacks=[EarlyStopping(monitor='val_loss', patience=10)], verbose=2, shuffle=False)"
   ]
  },
  {
   "cell_type": "code",
   "execution_count": 36,
   "metadata": {},
   "outputs": [
    {
     "data": {
      "image/png": "[encoded data removed]",
      "text/plain": [
       "<Figure size 432x288 with 1 Axes>"
      ]
     },
     "metadata": {
      "needs_background": "light"
     },
     "output_type": "display_data"
    }
   ],
   "source": [
    "plot_history(history)"
   ]
  },
  {
   "cell_type": "code",
   "execution_count": 37,
   "metadata": {},
   "outputs": [],
   "source": [
    "yhat = model.predict(test_X)\n",
    "test_X = test_X.reshape((test_X.shape[0], n_lag*n_features))"
   ]
  },
  {
   "cell_type": "code",
   "execution_count": 38,
   "metadata": {},
   "outputs": [],
   "source": [
    "# invert scaling for forecast\n",
    "inv_yhat = concatenate((yhat, test_X[:, -(n_features-1):]), axis=1)\n",
    "inv_yhat = scaler.inverse_transform(inv_yhat)\n",
    "inv_yhat = inv_yhat[:,0]"
   ]
  },
  {
   "cell_type": "code",
   "execution_count": 39,
   "metadata": {},
   "outputs": [],
   "source": [
    "# invert scaling for actual\n",
    "test_y = test_y.reshape((len(test_y), 1))\n",
    "inv_y = concatenate((test_y, test_X[:, -(n_features-1):]), axis=1)\n",
    "inv_y = scaler.inverse_transform(inv_y)\n",
    "inv_y = inv_y[:,0]"
   ]
  },
  {
   "cell_type": "code",
   "execution_count": 40,
   "metadata": {},
   "outputs": [
    {
     "name": "stdout",
     "output_type": "stream",
     "text": [
      "Test RMSE: 16.813\n",
      "R2_Score: 0.982\n",
      "MAE: 12.839501\n",
      "Directionnal Accuracyc: 0.7117988394584139\n"
     ]
    }
   ],
   "source": [
    "evaluateModel(inv_yhat,inv_y)"
   ]
  },
  {
   "cell_type": "code",
   "execution_count": 41,
   "metadata": {},
   "outputs": [],
   "source": [
    "def trend_error(y_true,y_pred,n):\n",
    "    s=type_one=type_two=0\n",
    "    for i in range(y_true.size-1):\n",
    "        actual_diff=y_true[i+1]-y_true[i]\n",
    "        pred_diff=y_pred[i+1]-y_true[i]\n",
    "        if(actual_diff<0 and pred_diff>0):\n",
    "            type_one=type_one+1\n",
    "        elif(actual_diff>0 and pred_diff<0):\n",
    "            type_two=type_two+1\n",
    "        else:\n",
    "            s=s+1\n",
    "    return (s/n,type_one/n,type_two/n)"
   ]
  },
  {
   "cell_type": "code",
   "execution_count": 42,
   "metadata": {},
   "outputs": [
    {
     "data": {
      "text/plain": [
       "(0.5135135135135135, 0.15444015444015444, 0.3301158301158301)"
      ]
     },
     "execution_count": 42,
     "metadata": {},
     "output_type": "execute_result"
    }
   ],
   "source": [
    "trend_error(inv_y,inv_yhat, inv_y.size)"
   ]
  },
  {
   "cell_type": "code",
   "execution_count": 43,
   "metadata": {
    "scrolled": true
   },
   "outputs": [],
   "source": [
    "import pandas as pd\n",
    "df = pd.DataFrame({'Actual':inv_y,'Predicted':inv_yhat,'Error': inv_y-inv_yhat,})"
   ]
  },
  {
   "cell_type": "code",
   "execution_count": 44,
   "metadata": {},
   "outputs": [
    {
     "name": "stdout",
     "output_type": "stream",
     "text": [
      "(518, 3)\n",
      "(530, 5)\n"
     ]
    }
   ],
   "source": [
    "print(df.shape)\n",
    "print(x_test_panda.shape)"
   ]
  },
  {
   "cell_type": "code",
   "execution_count": 45,
   "metadata": {},
   "outputs": [],
   "source": [
    "y=x_test_panda.iloc[12:,]\n",
    "true=y['LTP']"
   ]
  },
  {
   "cell_type": "code",
   "execution_count": 46,
   "metadata": {},
   "outputs": [],
   "source": [
    "true_x=np.array(true)\n",
    "pred_x=np.array(df['Actual'])"
   ]
  },
  {
   "cell_type": "code",
   "execution_count": 47,
   "metadata": {},
   "outputs": [
    {
     "name": "stdout",
     "output_type": "stream",
     "text": [
      "9\n"
     ]
    }
   ],
   "source": [
    "count=0\n",
    "for i in range(true_x.size):\n",
    "    if(true_x[i]==int(pred_x[i])):\n",
    "        count=count+1\n",
    "print(count)"
   ]
  },
  {
   "cell_type": "code",
   "execution_count": 48,
   "metadata": {},
   "outputs": [],
   "source": [
    "output_data=df.set_index(y.index)"
   ]
  },
  {
   "cell_type": "code",
   "execution_count": 49,
   "metadata": {},
   "outputs": [
    {
     "name": "stderr",
     "output_type": "stream",
     "text": [
      "C:\\Users\\user\\Anaconda3\\lib\\site-packages\\pandas\\plotting\\_matplotlib\\tools.py:307: MatplotlibDeprecationWarning: \n",
      "The rowNum attribute was deprecated in Matplotlib 3.2 and will be removed two minor releases later. Use ax.get_subplotspec().rowspan.start instead.\n",
      "  layout[ax.rowNum, ax.colNum] = ax.get_visible()\n",
      "C:\\Users\\user\\Anaconda3\\lib\\site-packages\\pandas\\plotting\\_matplotlib\\tools.py:307: MatplotlibDeprecationWarning: \n",
      "The colNum attribute was deprecated in Matplotlib 3.2 and will be removed two minor releases later. Use ax.get_subplotspec().colspan.start instead.\n",
      "  layout[ax.rowNum, ax.colNum] = ax.get_visible()\n",
      "C:\\Users\\user\\Anaconda3\\lib\\site-packages\\pandas\\plotting\\_matplotlib\\tools.py:313: MatplotlibDeprecationWarning: \n",
      "The rowNum attribute was deprecated in Matplotlib 3.2 and will be removed two minor releases later. Use ax.get_subplotspec().rowspan.start instead.\n",
      "  if not layout[ax.rowNum + 1, ax.colNum]:\n",
      "C:\\Users\\user\\Anaconda3\\lib\\site-packages\\pandas\\plotting\\_matplotlib\\tools.py:313: MatplotlibDeprecationWarning: \n",
      "The colNum attribute was deprecated in Matplotlib 3.2 and will be removed two minor releases later. Use ax.get_subplotspec().colspan.start instead.\n",
      "  if not layout[ax.rowNum + 1, ax.colNum]:\n",
      "C:\\Users\\user\\Anaconda3\\lib\\site-packages\\pandas\\plotting\\_matplotlib\\tools.py:307: MatplotlibDeprecationWarning: \n",
      "The rowNum attribute was deprecated in Matplotlib 3.2 and will be removed two minor releases later. Use ax.get_subplotspec().rowspan.start instead.\n",
      "  layout[ax.rowNum, ax.colNum] = ax.get_visible()\n",
      "C:\\Users\\user\\Anaconda3\\lib\\site-packages\\pandas\\plotting\\_matplotlib\\tools.py:307: MatplotlibDeprecationWarning: \n",
      "The colNum attribute was deprecated in Matplotlib 3.2 and will be removed two minor releases later. Use ax.get_subplotspec().colspan.start instead.\n",
      "  layout[ax.rowNum, ax.colNum] = ax.get_visible()\n",
      "C:\\Users\\user\\Anaconda3\\lib\\site-packages\\pandas\\plotting\\_matplotlib\\tools.py:313: MatplotlibDeprecationWarning: \n",
      "The rowNum attribute was deprecated in Matplotlib 3.2 and will be removed two minor releases later. Use ax.get_subplotspec().rowspan.start instead.\n",
      "  if not layout[ax.rowNum + 1, ax.colNum]:\n",
      "C:\\Users\\user\\Anaconda3\\lib\\site-packages\\pandas\\plotting\\_matplotlib\\tools.py:313: MatplotlibDeprecationWarning: \n",
      "The colNum attribute was deprecated in Matplotlib 3.2 and will be removed two minor releases later. Use ax.get_subplotspec().colspan.start instead.\n",
      "  if not layout[ax.rowNum + 1, ax.colNum]:\n"
     ]
    },
    {
     "data": {
      "text/plain": [
       "array([<matplotlib.axes._subplots.AxesSubplot object at 0x000001C51120BBE0>,\n",
       "       <matplotlib.axes._subplots.AxesSubplot object at 0x000001C511260DD8>,\n",
       "       <matplotlib.axes._subplots.AxesSubplot object at 0x000001C511295DA0>],\n",
       "      dtype=object)"
      ]
     },
     "execution_count": 49,
     "metadata": {},
     "output_type": "execute_result"
    },
    {
     "data": {
      "image/png": "[encoded data removed]",
      "text/plain": [
       "<Figure size 432x288 with 3 Axes>"
      ]
     },
     "metadata": {
      "needs_background": "light"
     },
     "output_type": "display_data"
    }
   ],
   "source": [
    "output_data.plot(subplots=True)"
   ]
  },
  {
   "cell_type": "code",
   "execution_count": 50,
   "metadata": {},
   "outputs": [],
   "source": [
    "file_name = m_name + '_' + m_set +'_Result.csv'"
   ]
  },
  {
   "cell_type": "code",
   "execution_count": 52,
   "metadata": {},
   "outputs": [],
   "source": [
    "output_data.to_csv(file_name,index=True)"
   ]
  }
 ],
 "metadata": {
  "kernelspec": {
   "display_name": "Python 3",
   "language": "python",
   "name": "python3"
  },
  "language_info": {
   "codemirror_mode": {
    "name": "ipython",
    "version": 3
   },
   "file_extension": ".py",
   "mimetype": "text/x-python",
   "name": "python",
   "nbconvert_exporter": "python",
   "pygments_lexer": "ipython3",
   "version": "3.7.3"
  }
 },
 "nbformat": 4,
 "nbformat_minor": 2
}
